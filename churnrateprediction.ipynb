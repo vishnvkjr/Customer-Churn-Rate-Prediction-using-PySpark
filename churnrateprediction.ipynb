{
  "nbformat": 4,
  "nbformat_minor": 0,
  "metadata": {
    "colab": {
      "provenance": []
    },
    "kernelspec": {
      "name": "python3",
      "display_name": "Python 3"
    },
    "language_info": {
      "name": "python"
    }
  },
  "cells": [
    {
      "cell_type": "code",
      "source": [
        "!pip install pyspark py4j"
      ],
      "metadata": {
        "colab": {
          "base_uri": "https://localhost:8080/"
        },
        "id": "l68rTtYh4q3o",
        "outputId": "b4008891-f743-452a-d907-05cdc83da8fd"
      },
      "execution_count": null,
      "outputs": [
        {
          "output_type": "stream",
          "name": "stdout",
          "text": [
            "Looking in indexes: https://pypi.org/simple, https://us-python.pkg.dev/colab-wheels/public/simple/\n",
            "Collecting pyspark\n",
            "  Downloading pyspark-3.3.1.tar.gz (281.4 MB)\n",
            "\u001b[2K     \u001b[90m━━━━━━━━━━━━━━━━━━━━━━━━━━━━━━━━━━━━━━━\u001b[0m \u001b[32m281.4/281.4 MB\u001b[0m \u001b[31m4.6 MB/s\u001b[0m eta \u001b[36m0:00:00\u001b[0m\n",
            "\u001b[?25h  Preparing metadata (setup.py) ... \u001b[?25l\u001b[?25hdone\n",
            "Collecting py4j\n",
            "  Downloading py4j-0.10.9.7-py2.py3-none-any.whl (200 kB)\n",
            "\u001b[2K     \u001b[90m━━━━━━━━━━━━━━━━━━━━━━━━━━━━━━━━━━━━━━\u001b[0m \u001b[32m200.5/200.5 KB\u001b[0m \u001b[31m13.5 MB/s\u001b[0m eta \u001b[36m0:00:00\u001b[0m\n",
            "\u001b[?25h  Downloading py4j-0.10.9.5-py2.py3-none-any.whl (199 kB)\n",
            "\u001b[2K     \u001b[90m━━━━━━━━━━━━━━━━━━━━━━━━━━━━━━━━━━━━━━\u001b[0m \u001b[32m199.7/199.7 KB\u001b[0m \u001b[31m18.0 MB/s\u001b[0m eta \u001b[36m0:00:00\u001b[0m\n",
            "\u001b[?25hBuilding wheels for collected packages: pyspark\n",
            "  Building wheel for pyspark (setup.py) ... \u001b[?25l\u001b[?25hdone\n",
            "  Created wheel for pyspark: filename=pyspark-3.3.1-py2.py3-none-any.whl size=281845512 sha256=4625b06f88e3b580d4c355165ec9b9179f748fd9cb0502f63733536e2b1434da\n",
            "  Stored in directory: /root/.cache/pip/wheels/43/dc/11/ec201cd671da62fa9c5cc77078235e40722170ceba231d7598\n",
            "Successfully built pyspark\n",
            "Installing collected packages: py4j, pyspark\n",
            "Successfully installed py4j-0.10.9.5 pyspark-3.3.1\n"
          ]
        }
      ]
    },
    {
      "cell_type": "code",
      "source": [
        "# import libraries\n",
        "import numpy as np\n",
        "import pandas as 1381591r\n",
        "from matplotlib import pyplot as plt\n",
        "from pyspark.sql import SparkSession, Window\n",
        "from pyspark.sql.functions import avg, explode, concat, lit, min, max, split, udf, isnull, col, desc\n",
        "from pyspark.sql.types import IntegerType\n",
        "import seaborn as sns\n",
        "from pyspark.ml.feature import VectorAssembler, StandardScaler\n",
        "from pyspark.ml.evaluation import MulticlassClassificationEvaluator\n",
        "from pyspark.ml.classification import LogisticRegression, RandomForestClassifier, GBTClassifier, LinearSVC\n",
        "from pyspark.ml.tuning import CrossValidator, ParamGridBuilder\n",
        "import time"
      ],
      "metadata": {
        "id": "qtIy7Yeu5fBO"
      },
      "execution_count": null,
      "outputs": []
    },
    {
      "cell_type": "code",
      "source": [
        "spark = SparkSession \\\n",
        "        .builder \\\n",
        "        .appName(\"Sparkify-Small\") \\\n",
        "        .getOrCreate()"
      ],
      "metadata": {
        "id": "sTpEqzH152-o"
      },
      "execution_count": null,
      "outputs": []
    },
    {
      "cell_type": "code",
      "source": [
        "df = spark.read.json('mini_sparkify_event_data (1).json')"
      ],
      "metadata": {
        "id": "C0hhRMBX6I9I"
      },
      "execution_count": null,
      "outputs": []
    },
    {
      "cell_type": "code",
      "source": [
        "# number of records\n",
        "df.count()"
      ],
      "metadata": {
        "colab": {
          "base_uri": "https://localhost:8080/"
        },
        "id": "mq8ZSdYs6wzx",
        "outputId": "b5f933f1-f056-4f36-dc2e-2ad341e02f48"
      },
      "execution_count": null,
      "outputs": [
        {
          "output_type": "execute_result",
          "data": {
            "text/plain": [
              "280616"
            ]
          },
          "metadata": {},
          "execution_count": 15
        }
      ]
    },
    {
      "cell_type": "code",
      "source": [
        "df = df[df.userId != \"\"]\n",
        "df.count()"
      ],
      "metadata": {
        "colab": {
          "base_uri": "https://localhost:8080/"
        },
        "id": "hRlAegwm62ys",
        "outputId": "aa8aebf0-e645-457c-83a8-43edd9e24820"
      },
      "execution_count": null,
      "outputs": [
        {
          "output_type": "execute_result",
          "data": {
            "text/plain": [
              "272400"
            ]
          },
          "metadata": {},
          "execution_count": 16
        }
      ]
    },
    {
      "cell_type": "code",
      "source": [
        "# drop null values\n",
        "df = df.dropna(how = 'any', subset = ['userId', 'sessionId'])\n",
        "df.count()"
      ],
      "metadata": {
        "colab": {
          "base_uri": "https://localhost:8080/"
        },
        "id": "ywbl-fST6_zH",
        "outputId": "a0319d47-f055-43b7-f627-b1d6ae18dcb7"
      },
      "execution_count": null,
      "outputs": [
        {
          "output_type": "execute_result",
          "data": {
            "text/plain": [
              "272400"
            ]
          },
          "metadata": {},
          "execution_count": 17
        }
      ]
    },
    {
      "cell_type": "code",
      "source": [
        "# define churn when a user cancels\n",
        "churn = udf(lambda x: 1 if x == 'Cancellation Confirmation' else 0, IntegerType())"
      ],
      "metadata": {
        "id": "2W-5h1X87FWd"
      },
      "execution_count": null,
      "outputs": []
    },
    {
      "cell_type": "code",
      "source": [
        "df = df.withColumn(\"churn\", churn(\"page\"))"
      ],
      "metadata": {
        "id": "dTbtSyxs7Ofh"
      },
      "execution_count": null,
      "outputs": []
    },
    {
      "cell_type": "code",
      "source": [
        "window_churn = Window.partitionBy('userId').rangeBetween(Window.unboundedPreceding,Window.unboundedFollowing)\n",
        "df_churn = df.withColumn('churn',max('churn').over(window_churn))"
      ],
      "metadata": {
        "id": "JCA9QNMd7Rk7"
      },
      "execution_count": null,
      "outputs": []
    },
    {
      "cell_type": "code",
      "source": [
        "df_churn.show(5)"
      ],
      "metadata": {
        "colab": {
          "base_uri": "https://localhost:8080/"
        },
        "id": "kKB-qfHI7VLU",
        "outputId": "191920e5-82a8-4181-854c-3b7c5db561b9"
      },
      "execution_count": null,
      "outputs": [
        {
          "output_type": "stream",
          "name": "stdout",
          "text": [
            "+---------------+--------------------+---------+---------+------+-------------+--------+---------+-----+--------------------+------+-----------+-------------+---------+--------------------+------+-------------+--------------------+------+-----+\n",
            "|_corrupt_record|              artist|     auth|firstName|gender|itemInSession|lastName|   length|level|            location|method|       page| registration|sessionId|                song|status|           ts|           userAgent|userId|churn|\n",
            "+---------------+--------------------+---------+---------+------+-------------+--------+---------+-----+--------------------+------+-----------+-------------+---------+--------------------+------+-------------+--------------------+------+-----+\n",
            "|           null|         Evanescence|Logged In|    Colin|     M|            0|  Larson|237.11302| paid|Dallas-Fort Worth...|   PUT|   NextSong|1537982255000|      256|    Bring Me To Life|   200|1538492662000|Mozilla/5.0 (Wind...|   100|    0|\n",
            "|           null|       Sheena Easton|Logged In|    Colin|     M|            1|  Larson|239.62077| paid|Dallas-Fort Worth...|   PUT|   NextSong|1537982255000|      256|Strut (1993 Digit...|   200|1538492899000|Mozilla/5.0 (Wind...|   100|    0|\n",
            "|           null|                null|Logged In|    Colin|     M|            2|  Larson|     null| paid|Dallas-Fort Worth...|   PUT|Thumbs Down|1537982255000|      256|                null|   307|1538492900000|Mozilla/5.0 (Wind...|   100|    0|\n",
            "|           null|Moonbootica (w/IAMX)|Logged In|    Colin|     M|            3|  Larson|407.27465| paid|Dallas-Fort Worth...|   PUT|   NextSong|1537982255000|      256| Pretty Little Angel|   200|1538493138000|Mozilla/5.0 (Wind...|   100|    0|\n",
            "|           null|             tobyMac|Logged In|    Colin|     M|            4|  Larson|272.09098| paid|Dallas-Fort Worth...|   PUT|   NextSong|1537982255000|      256|   City On Our Knees|   200|1538493545000|Mozilla/5.0 (Wind...|   100|    0|\n",
            "+---------------+--------------------+---------+---------+------+-------------+--------+---------+-----+--------------------+------+-----------+-------------+---------+--------------------+------+-------------+--------------------+------+-----+\n",
            "only showing top 5 rows\n",
            "\n"
          ]
        }
      ]
    },
    {
      "cell_type": "code",
      "source": [
        "# churn dataframe\n",
        "df_churn.dropDuplicates(pp ö0['userId']).select('churn').groupby('churn').count().collect()"
      ],
      "metadata": {
        "colab": {
          "base_uri": "https://localhost:8080/"
        },
        "id": "WTR2jIBU7ZVc",
        "outputId": "250c6fcc-fe59-4aad-f2e0-90c478f37fe2"
      },
      "execution_count": null,
      "outputs": [
        {
          "output_type": "execute_result",
          "data": {
            "text/plain": [
              "[Row(churn=1, count=51), Row(churn=0, count=174)]"
            ]
          },
          "metadata": {},
          "execution_count": 22
        }
      ]
    },
    {
      "cell_type": "code",
      "source": [
        "# plot churn by gender\n",
        "pdf = df_churn.dropDuplicates([\"userId\", \"gender\"]).groupby([\"churn\", \"gender\"]).count().sort(\"churn\").toPandas()\n",
        "sns.barplot(x = 'churn  ', y='count', palette='OrRd', hue = 'gender', data=pdf)\n",
        "plt.title(\"Churn Distribution by oo o)\n",
        "plt.xlabel('Churn Status')\n",
        "plt.ylabel('Number of Users')"
      ],
      "metadata": {
        "id": "T7cMtxWQ7ecz"
      },
      "execution_count": null,
      "outputs": []
    },
    {
      "cell_type": "code",
      "source": [
        "df_churn.drop_duplicates(['userId', 'gender']).groupby(['churn', 'gender']).count().sort(\"churn\").show()"
      ],
      "metadata": {
        "colab": {
          "base_uri": "https://localhost:8080/"
        },
        "id": "JNfkjHzl7k7P",
        "outputId": "69f1accb-4f3e-484a-90be-302f38e911fd"
      },
      "execution_count": null,
      "outputs": [
        {
          "output_type": "stream",
          "name": "stdout",
          "text": [
            "+-----+------+-----+\n",
            "|churn|gender|count|\n",
            "+-----+------+-----+\n",
            "|    0|     M|   89|\n",
            "|    0|     F|   85|\n",
            "|    1|     F|   19|\n",
            "|    1|     M|   32|\n",
            "+-----+------+-----+\n",
            "\n"
          ]
        }
      ]
    },
    {
      "cell_type": "code",
      "source": [
        "# see pagen event types\n",
        "df_churn.select('page').dropDuplicates().show()"
      ],
      "metadata": {
        "colab": {
          "base_uri": "https://localhost:8080/"
        },
        "id": "AocOUdLU7snt",
        "outputId": "2638cff4-909d-486f-e8b4-c661846d3040"
      },
      "execution_count": null,
      "outputs": [
        {
          "output_type": "stream",
          "name": "stdout",
          "text": [
            "+--------------------+\n",
            "|                page|\n",
            "+--------------------+\n",
            "|              Cancel|\n",
            "|    Submit Downgrade|\n",
            "|         Thumbs Down|\n",
            "|                Home|\n",
            "|           Downgrade|\n",
            "|         Roll Advert|\n",
            "|              Logout|\n",
            "|       Save Settings|\n",
            "|Cancellation Conf...|\n",
            "|               About|\n",
            "|            Settings|\n",
            "|     Add to Playlist|\n",
            "|          Add Friend|\n",
            "|            NextSong|\n",
            "|           Thumbs Up|\n",
            "|                Help|\n",
            "|             Upgrade|\n",
            "|               Error|\n",
            "|      Submit Upgrade|\n",
            "+--------------------+\n",
            "\n"
          ]
        }
      ]
    },
    {
      "cell_type": "code",
      "source": [
        "# plot churn by page event\n",
        "df_pages = df_churn.groupby(['page','churn']).count().toPandas()\n",
        "df_pages = df_pages[df_pages['page'] != 'NextSong']\n",
        "df_pages = ((df_pages.groupby(['page','churn']).sum() / df_pages.groupby(['churn']).sum()) *100).reset_index()\n",
        "sns.barplot(y = 'page', x = 'count', palette='OrRd', data = df_pages, hue = 'churn')\n",
        "plt.title(\"Proportion of Page Events by User Churn Status\")\n",
        "plt.ylabel('Page Event')\n",
        "plt.xlabel('Proportion of Events')"
      ],
      "metadata": {
        "colab": {
          "base_uri": "https://localhost:8080/",
          "height": 312
        },
        "id": "lYQn1AM87zZr",
        "outputId": "9e3c3b96-7a15-45d7-9773-9a706e013900"
      },
      "execution_count": null,
      "outputs": [
        {
          "output_type": "execute_result",
          "data": {
            "text/plain": [
              "Text(0.5, 0, 'Proportion of Events')"
            ]
          },
          "metadata": {},
          "execution_count": 26
        },
        {
          "output_type": "display_data",
          "data": {
            "text/plain": [
              "<Figure size 432x288 with 1 Axes>"
            ],
            "image/png": "[encoded data removed]"
          },
          "metadata": {
            "needs_background": "light"
          }
        }
      ]
    },
    {
      "cell_type": "code",
      "source": [
        "# plot churn by account level\n",
        "df_level = df_churn.filter('page == \"Cancellation Confirmation\"').groupby('level').count().toPandas()\n",
        "sns.barplot(x = 'level', y = 'count', palette='OrRd', data = df_level)\n",
        "\n"
      ],
      "metadata": {
        "colab": {
          "base_uri": "https://localhost:8080/",
          "height": 296
        },
        "id": "H7zCUB338GF6",
        "outputId": "3b50c823-86e0-49da-d43e-67a4974fdf7e"
      },
      "execution_count": null,
      "outputs": [
        {
          "output_type": "execute_result",
          "data": {
            "text/plain": [
              "<matplotlib.axes._subplots.AxesSubplot at 0x7f4d8176cf70>"
            ]
          },
          "metadata": {},
          "execution_count": 27
        },
        {
          "output_type": "display_data",
          "data": {
            "text/plain": [
              "<Figure size 432x288 with 1 Axes>"
            ],
            "image/png": "[encoded data removed]"
          },
          "metadata": {
            "needs_background": "light"
          }
        }
      ]
    },
    {
      "cell_type": "code",
      "source": [
        "df_churn_sql = df_churn.createOrReplaceTempView(\"user_table\")"
      ],
      "metadata": {
        "id": "JE2T64IDE1MP"
      },
      "execution_count": null,
      "outputs": []
    },
    {
      "cell_type": "code",
      "source": [
        "# sql script to create feature list\n",
        "df_training = spark.sql(\n",
        "    '''\n",
        "          SELECT DISTINCT\n",
        "          userId,\n",
        "          (CASE WHEN gender = 'M' THEN 0 ELSE 1 END) AS gender,\n",
        "          (CASE WHEN level = 'free' THEN 0 ELSE 1 END) AS level,\n",
        "          SUM(CASE WHEN page = 'Add to Playlist' THEN 1 ELSE 0 END) AS sum_add_playlist,\n",
        "          SUM(CASE WHEN page = 'Downgrade' THEN 1 ELSE 0 END) AS downgrade_count,\n",
        "          SUM(CASE WHEN page = 'Error' THEN 1 ELSE 0 END) AS error_count,\n",
        "          SUM(CASE WHEN page = 'Help' THEN 1 ELSE 0 END) AS help_count,\n",
        "          SUM(CASE WHEN page = 'Roll Advert' THEN 1 ELSE 0 END) AS roll_advert_count,\n",
        "          SUM(CASE WHEN page = 'Submit Downgrade' THEN 1 ELSE 0 END) AS submit_downgrade_count,\n",
        "          SUM(CASE WHEN page = 'Submit Upgrade' THEN 1 ELSE 0 END) AS submit_upgrade_count,\n",
        "          SUM(CASE WHEN page = 'Thumbs Down' THEN 1 ELSE 0 END) AS thumbs_down_count,\n",
        "          SUM(CASE WHEN page = 'Thumbs Up' THEN 1 ELSE 0 END) AS thumbs_up_count,\n",
        "          SUM(CASE WHEN page = 'Upgrade' THEN 1 ELSE 0 END) AS upgrade_count,\n",
        "          COUNT(DISTINCT song) AS total_songs,\n",
        "          COUNT(DISTINCT sessionId) AS total_sessions,\n",
        "          MAX(ts - registration) AS account_lifetime,\n",
        "          churn\n",
        "          FROM user_table\n",
        "          GROUP BY userId,churn,gender,level\n",
        "    ''')\n",
        "\n",
        "df_final = df_training.toPandas()"
      ],
      "metadata": {
        "id": "_wRIHGM2r5XG"
      },
      "execution_count": null,
      "outputs": []
    },
    {
      "cell_type": "code",
      "source": [
        "print(df_final.shape)"
      ],
      "metadata": {
        "colab": {
          "base_uri": "https://localhost:8080/"
        },
        "id": "cik0FXpgr_Ly",
        "outputId": "b4ed9205-5244-44c7-b361-d7c6303d10ae"
      },
      "execution_count": null,
      "outputs": [
        {
          "output_type": "stream",
          "name": "stdout",
          "text": [
            "(358, 17)\n"
          ]
        }
      ]
    },
    {
      "cell_type": "code",
      "source": [
        "assembler = VectorAssembler(inputCols=df_training.columns[1:-1], outputCol=\"FeatureVector\")\n",
        "features_vectored = assembler.transform(df_training)\n",
        "scaler = StandardScaler(inputCol=\"FeatureVector\", outputCol=\"features\")\n",
        "scaled = scaler.fit(features_vectored)\n",
        "scaled = scaled.transform(features_vectored)"
      ],
      "metadata": {
        "id": "m8uoCpr0sFqD"
      },
      "execution_count": null,
      "outputs": []
    },
    {
      "cell_type": "code",
      "source": [
        "scaled.head()"
      ],
      "metadata": {
        "colab": {
          "base_uri": "https://localhost:8080/"
        },
        "id": "6bXvgX9BsKYQ",
        "outputId": "4c375d38-5158-40d9-8708-e5346a95dce7"
      },
      "execution_count": null,
      "outputs": [
        {
          "output_type": "execute_result",
          "data": {
            "text/plain": [
              "Row(userId='37', gender=0, level=0, sum_add_playlist=2, downgrade_count=0, error_count=0, help_count=3, roll_advert_count=3, submit_downgrade_count=0, submit_upgrade_count=1, thumbs_down_count=0, thumbs_up_count=2, upgrade_count=1, total_songs=43, total_sessions=4, account_lifetime=4409211000, churn=0, FeatureVector=DenseVector([0.0, 0.0, 2.0, 0.0, 0.0, 3.0, 3.0, 0.0, 1.0, 0.0, 2.0, 1.0, 43.0, 4.0, 4409211000.0]), features=DenseVector([0.0, 0.0, 0.0791, 0.0, 0.0, 0.563, 0.1656, 0.0, 1.4838, 0.0, 0.0408, 0.4361, 0.0605, 0.4082, 1.3164]))"
            ]
          },
          "metadata": {},
          "execution_count": 35
        }
      ]
    },
    {
      "cell_type": "code",
      "source": [
        "# rename columns for cross validation\n",
        "df_final = scaled.select(['features', scaled['churn'].alias('label')])"
      ],
      "metadata": {
        "id": "nAlM0mU6sPfN"
      },
      "execution_count": null,
      "outputs": []
    },
    {
      "cell_type": "code",
      "source": [
        "df_final.show()"
      ],
      "metadata": {
        "colab": {
          "base_uri": "https://localhost:8080/"
        },
        "id": "E1CJDmLUsWNX",
        "outputId": "b07d67c6-cf79-4ca7-b353-9352f33a90bc"
      },
      "execution_count": null,
      "outputs": [
        {
          "output_type": "stream",
          "name": "stdout",
          "text": [
            "+--------------------+-----+\n",
            "|            features|label|\n",
            "+--------------------+-----+\n",
            "|[0.0,0.0,0.079078...|    0|\n",
            "|[2.00170789540886...|    0|\n",
            "|[2.00170789540886...|    1|\n",
            "|[0.0,2.0042543386...|    0|\n",
            "|[2.00170789540886...|    0|\n",
            "|[2.00170789540886...|    0|\n",
            "|(15,[1,2,3,9,10,1...|    1|\n",
            "|[0.0,2.0042543386...|    1|\n",
            "|[0.0,2.0042543386...|    0|\n",
            "|[2.00170789540886...|    0|\n",
            "|[0.0,0.0,0.316313...|    0|\n",
            "|[0.0,0.0,0.514009...|    1|\n",
            "|[0.0,2.0042543386...|    0|\n",
            "|[2.00170789540886...|    0|\n",
            "|[2.00170789540886...|    0|\n",
            "|[2.00170789540886...|    0|\n",
            "|[0.0,0.0,0.434930...|    0|\n",
            "|(15,[0,2,5,6,10,1...|    0|\n",
            "|[0.0,0.0,0.197695...|    0|\n",
            "|[0.0,2.0042543386...|    0|\n",
            "+--------------------+-----+\n",
            "only showing top 20 rows\n",
            "\n"
          ]
        }
      ]
    },
    {
      "cell_type": "code",
      "source": [
        "train, validation = df_final.randomSplit([0.9, 0.1], seed=42)"
      ],
      "metadata": {
        "id": "AwiHb3mCsZeJ"
      },
      "execution_count": null,
      "outputs": []
    },
    {
      "cell_type": "code",
      "source": [
        "validation.count()"
      ],
      "metadata": {
        "colab": {
          "base_uri": "https://localhost:8080/"
        },
        "id": "ksv8k7Rgsh4P",
        "outputId": "e1562113-857f-4de9-bd03-3cc5d4292619"
      },
      "execution_count": null,
      "outputs": [
        {
          "output_type": "execute_result",
          "data": {
            "text/plain": [
              "29"
            ]
          },
          "metadata": {},
          "execution_count": 39
        }
      ]
    },
    {
      "cell_type": "code",
      "source": [
        "train.count()"
      ],
      "metadata": {
        "colab": {
          "base_uri": "https://localhost:8080/"
        },
        "id": "Iidpfei7sn7e",
        "outputId": "11bf7ee2-a5c9-472b-b7e5-0d19bce93cbe"
      },
      "execution_count": null,
      "outputs": [
        {
          "output_type": "execute_result",
          "data": {
            "text/plain": [
              "329"
            ]
          },
          "metadata": {},
          "execution_count": 40
        }
      ]
    },
    {
      "cell_type": "code",
      "source": [
        "# initialize the classificaton models\n",
        "lr = LogisticRegression(featuresCol ='features', labelCol = 'label')\n",
        "rf = RandomForestClassifier(featuresCol ='features', labelCol = 'label')\n",
        "gbt = GBTClassifier(featuresCol ='features', labelCol = 'label')\n",
        "svm = LinearSVC(featuresCol ='features', labelCol = 'label')"
      ],
      "metadata": {
        "id": "vTErdL_Asuaa"
      },
      "execution_count": null,
      "outputs": []
    },
    {
      "cell_type": "code",
      "source": [
        "def train_models(model, train, validation):\n",
        "    '''\n",
        "    This function trains a model and predicts the target column. It also prints the f1 score.\n",
        "\n",
        "    :param model: classification model to use.\n",
        "    :param train: training data.\n",
        "    :param validation: test data.\n",
        "    '''\n",
        "    clf = model.fit(train)\n",
        "    pred = clf.transform(validation)\n",
        "    evaluator = MulticlassClassificationEvaluator(labelCol = \"label\",predictionCol=\"prediction\")\n",
        "    f1score = evaluator.evaluate(pred, {evaluator.metricName: \"f1\"})\n",
        "    print('F1 Score:{}'.format(f1score))\n",
        "\n",
        "    precision = evaluator.evaluate(pred, {evaluator.metricName: \"weightedPrecision\"})\n",
        "    print('Precision:', precision)\n",
        "\n",
        "    recall = evaluator.evaluate(pred, {evaluator.metricName: \"weightedRecall\"})\n",
        "    print('Recall:', recall)\n",
        "\n",
        ""
      ],
      "metadata": {
        "id": "kgsGuKkWszKd"
      },
      "execution_count": null,
      "outputs": []
    },
    {
      "cell_type": "code",
      "source": [
        "print('Linear Regression: ')\n",
        "train_models(lr,train,validation)\n",
        "print('Random Forest: ')\n",
        "train_models(rf,train,validation)\n",
        "print('Gradient Boosted Trees: ')\n",
        "train_models(gbt,train,validation)\n",
        "print('SVM: ')\n",
        "train_models(svm,train,validation)"
      ],
      "metadata": {
        "colab": {
          "base_uri": "https://localhost:8080/"
        },
        "id": "dTAMvqzks2yU",
        "outputId": "1ccb6eaf-f97d-45bc-bde9-76123c14f8ac"
      },
      "execution_count": null,
      "outputs": [
        {
          "output_type": "stream",
          "name": "stdout",
          "text": [
            "Linear Regression: \n",
            "F1 Score:0.46415396952686444\n",
            "Precision: 0.4761273209549071\n",
            "Recall: 0.5517241379310345\n",
            "Random Forest: \n",
            "F1 Score:0.5065723548482168\n",
            "Precision: 0.7697044334975369\n",
            "Recall: 0.6206896551724137\n",
            "Gradient Boosted Trees: \n",
            "F1 Score:0.6800692317933696\n",
            "Precision: 0.6862068965517241\n",
            "Recall: 0.6896551724137931\n",
            "SVM: \n",
            "F1 Score:0.4332833583208396\n",
            "Precision: 0.3436385255648038\n",
            "Recall: 0.5862068965517241\n"
          ]
        }
      ]
    },
    {
      "cell_type": "code",
      "source": [
        "from pyspark.ml import Pipeline\n",
        "from pyspark.ml.classification import GBTClassifier\n",
        "\n",
        "from pyspark.ml.regression import LinearRegression\n",
        "\n",
        "lr = LinearRegression()\n",
        "pipeline_lr = Pipeline(stages=[lr])\n",
        "\n",
        "from pyspark.ml.classification import RandomForestClassifier,LinearSVC\n",
        "\n",
        "rf = RandomForestClassifier()\n",
        "pipeline_rf = Pipeline(stages=[rf])\n",
        "\n",
        "svm = LinearSVC()\n",
        "pipeline_svm = Pipeline(stages=[svm])\n",
        "\n",
        "# Create a pipeline with the GBTClassifier\n",
        "gbt = GBTClassifier()\n",
        "pipeline = Pipeline(stages=[gbt])\n",
        "\n",
        "#####\n",
        "evaluator = MulticlassClassificationEvaluator(labelCol = \"label\",predictionCol=\"prediction\")\n",
        "\n",
        "# train and evaluate the models\n",
        "models = {'Linear Regression': lr, 'Random Forest': rf, 'Gradient Boosted Trees': gbt, 'SVM': svm}\n",
        "scores = {}\n",
        "for name, model in models.items():\n",
        "    clf = model.fit(train)\n",
        "    pred = clf.transform(validation)\n",
        "    f1score = evaluator.evaluate(pred, {evaluator.metricName: \"f1\"})\n",
        "    scores[name] = f1score\n",
        "\n",
        "# find the best model\n",
        "best_model_name = None\n",
        "best_score = 0\n",
        "for name, score in scores.items():\n",
        "    if score > best_score:\n",
        "        best_score = score\n",
        "        best_model_name = name\n",
        "best_model = models[best_model_name]\n",
        "#####\n",
        "print(\"THE BEST SCORE IS\",best_score)\n",
        "# Fit the pipeline to the training data\n",
        "best_model = pipeline.fit(train)\n",
        "\n",
        "\n",
        "# Make predictions on the validation dataset using the best model\n",
        "predictions = best_model.transform(validation)\n",
        "\n",
        "# Create a new column 'churn' that indicates whether a customer churned or not\n",
        "predictions = predictions.withColumn(\"churn\", when(predictions.label == 1, 'Churned').otherwise('Not Churned'))\n",
        "\n",
        "# Count the number of true positives and false positives\n",
        "churned = predictions.filter(\"churn = 'Churned'\").count()\n",
        "not_churned = predictions.filter(\"churn = 'Not Churned'\").count()\n",
        "\n",
        "# Create a list of the counts\n",
        "counts = [churned, not_churned]\n",
        "\n",
        "# Create a list of the labels for the pie chart\n",
        "labels = ['Churned', 'Not Churned']\n",
        "\n",
        "# Plot the pie chart\n",
        "plt.pie(counts, labels=labels, autopct='%1.1f%%')\n",
        "plt.title('Churned vs Not Churned Predictions')\n",
        "plt.show()"
      ],
      "metadata": {
        "colab": {
          "base_uri": "https://localhost:8080/",
          "height": 281
        },
        "id": "xgZPI54MPSp9",
        "outputId": "70761b00-21cf-4467-9594-7e0944f8a3d9"
      },
      "execution_count": null,
      "outputs": [
        {
          "output_type": "stream",
          "name": "stdout",
          "text": [
            "THE BEST SCORE IS 0.6800692317933696\n"
          ]
        },
        {
          "output_type": "display_data",
          "data": {
            "text/plain": [
              "<Figure size 432x288 with 1 Axes>"
            ],
            "image/png": "[encoded data removed]"
          },
          "metadata": {}
        }
      ]
    },
    {
      "cell_type": "code",
      "source": [],
      "metadata": {
        "id": "fJZ7D0VHdxTY"
      },
      "execution_count": null,
      "outputs": []
    }
  ]
}